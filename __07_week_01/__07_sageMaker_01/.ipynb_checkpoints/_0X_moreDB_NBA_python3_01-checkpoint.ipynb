{
 "cells": [
  {
   "cell_type": "code",
   "execution_count": 1,
   "metadata": {},
   "outputs": [],
   "source": [
    "\n",
    "import mysql\n"
   ]
  },
  {
   "cell_type": "code",
   "execution_count": 2,
   "metadata": {},
   "outputs": [],
   "source": [
    "\n",
    "\n",
    "\n",
    "import mysql.connector   \n",
    "\n",
    "\n",
    "\n",
    "\n",
    "\n"
   ]
  },
  {
   "cell_type": "code",
   "execution_count": 3,
   "metadata": {},
   "outputs": [],
   "source": [
    "exec(open(\"_0X_params.py\").read())"
   ]
  },
  {
   "cell_type": "code",
   "execution_count": 4,
   "metadata": {},
   "outputs": [],
   "source": [
    "\n",
    "cnx = mysql.connector.connect(user=xdbuser, \n",
    "                              password=xpw,\n",
    "                              host=xdbhost,\n",
    "                              database=xdbname\n",
    "                             )\n",
    "\n"
   ]
  },
  {
   "cell_type": "code",
   "execution_count": 5,
   "metadata": {},
   "outputs": [],
   "source": [
    "\n",
    "import numpy as np\n",
    "import pandas as pd\n"
   ]
  },
  {
   "cell_type": "code",
   "execution_count": 6,
   "metadata": {},
   "outputs": [],
   "source": [
    "\n",
    "xcursor = cnx.cursor()\n",
    "\n",
    "xcursor.execute(\"SHOW TABLES\")\n",
    "\n",
    "result = xcursor.fetchall()\n",
    "\n",
    "\n"
   ]
  },
  {
   "cell_type": "code",
   "execution_count": 7,
   "metadata": {},
   "outputs": [
    {
     "name": "stdout",
     "output_type": "stream",
     "text": [
      "[(bytearray(b'dataDictionary'),), (bytearray(b'metadata'),), (bytearray(b'nba_gameDate_1'),), (bytearray(b'nba_playersDate_1'),), (bytearray(b'nba_teamDate_1'),), (bytearray(b'nhl_gameDate_1'),), (bytearray(b'nhl_goaliesDate_1'),), (bytearray(b'nhl_playersDate_1'),), (bytearray(b'nhl_teamDate_1'),), (bytearray(b'ozone_data'),), (bytearray(b'ozone_data_test'),)]\n"
     ]
    }
   ],
   "source": [
    "\n",
    "print(result)\n"
   ]
  },
  {
   "cell_type": "code",
   "execution_count": 8,
   "metadata": {},
   "outputs": [
    {
     "name": "stdout",
     "output_type": "stream",
     "text": [
      "(bytearray(b'dataDictionary'),)\n",
      "(bytearray(b'metadata'),)\n",
      "(bytearray(b'nba_gameDate_1'),)\n",
      "(bytearray(b'nba_playersDate_1'),)\n",
      "(bytearray(b'nba_teamDate_1'),)\n",
      "(bytearray(b'nhl_gameDate_1'),)\n",
      "(bytearray(b'nhl_goaliesDate_1'),)\n",
      "(bytearray(b'nhl_playersDate_1'),)\n",
      "(bytearray(b'nhl_teamDate_1'),)\n",
      "(bytearray(b'ozone_data'),)\n",
      "(bytearray(b'ozone_data_test'),)\n"
     ]
    }
   ],
   "source": [
    "it_result = iter(result)\n",
    "\n",
    "for row in it_result:\n",
    "    print(row)"
   ]
  },
  {
   "cell_type": "code",
   "execution_count": 9,
   "metadata": {},
   "outputs": [
    {
     "data": {
      "text/html": [
       "<div>\n",
       "<style scoped>\n",
       "    .dataframe tbody tr th:only-of-type {\n",
       "        vertical-align: middle;\n",
       "    }\n",
       "\n",
       "    .dataframe tbody tr th {\n",
       "        vertical-align: top;\n",
       "    }\n",
       "\n",
       "    .dataframe thead th {\n",
       "        text-align: right;\n",
       "    }\n",
       "</style>\n",
       "<table border=\"1\" class=\"dataframe\">\n",
       "  <thead>\n",
       "    <tr style=\"text-align: right;\">\n",
       "      <th></th>\n",
       "      <th>0</th>\n",
       "      <th>1</th>\n",
       "      <th>2</th>\n",
       "      <th>3</th>\n",
       "      <th>4</th>\n",
       "      <th>5</th>\n",
       "      <th>6</th>\n",
       "      <th>7</th>\n",
       "    </tr>\n",
       "  </thead>\n",
       "  <tbody>\n",
       "    <tr>\n",
       "      <th>0</th>\n",
       "      <td>1</td>\n",
       "      <td>20041102</td>\n",
       "      <td>DET</td>\n",
       "      <td>E</td>\n",
       "      <td>Richard Hamilton</td>\n",
       "      <td>42</td>\n",
       "      <td>15</td>\n",
       "      <td>15</td>\n",
       "    </tr>\n",
       "    <tr>\n",
       "      <th>1</th>\n",
       "      <td>2</td>\n",
       "      <td>20041102</td>\n",
       "      <td>DET</td>\n",
       "      <td>E</td>\n",
       "      <td>Ben Wallace</td>\n",
       "      <td>37</td>\n",
       "      <td>15</td>\n",
       "      <td>6</td>\n",
       "    </tr>\n",
       "    <tr>\n",
       "      <th>2</th>\n",
       "      <td>3</td>\n",
       "      <td>20041102</td>\n",
       "      <td>DET</td>\n",
       "      <td>E</td>\n",
       "      <td>Chauncey Billups</td>\n",
       "      <td>37</td>\n",
       "      <td>17</td>\n",
       "      <td>12</td>\n",
       "    </tr>\n",
       "    <tr>\n",
       "      <th>3</th>\n",
       "      <td>4</td>\n",
       "      <td>20041102</td>\n",
       "      <td>DET</td>\n",
       "      <td>E</td>\n",
       "      <td>Rasheed Wallace</td>\n",
       "      <td>34</td>\n",
       "      <td>24</td>\n",
       "      <td>18</td>\n",
       "    </tr>\n",
       "    <tr>\n",
       "      <th>4</th>\n",
       "      <td>5</td>\n",
       "      <td>20041102</td>\n",
       "      <td>DET</td>\n",
       "      <td>E</td>\n",
       "      <td>Tayshaun Prince</td>\n",
       "      <td>31</td>\n",
       "      <td>10</td>\n",
       "      <td>21</td>\n",
       "    </tr>\n",
       "    <tr>\n",
       "      <th>...</th>\n",
       "      <td>...</td>\n",
       "      <td>...</td>\n",
       "      <td>...</td>\n",
       "      <td>...</td>\n",
       "      <td>...</td>\n",
       "      <td>...</td>\n",
       "      <td>...</td>\n",
       "      <td>...</td>\n",
       "    </tr>\n",
       "    <tr>\n",
       "      <th>95</th>\n",
       "      <td>96</td>\n",
       "      <td>20041103</td>\n",
       "      <td>MIL</td>\n",
       "      <td>E</td>\n",
       "      <td>Dan Gadzuric</td>\n",
       "      <td>22</td>\n",
       "      <td>11</td>\n",
       "      <td>-9</td>\n",
       "    </tr>\n",
       "    <tr>\n",
       "      <th>96</th>\n",
       "      <td>97</td>\n",
       "      <td>20041103</td>\n",
       "      <td>MIL</td>\n",
       "      <td>E</td>\n",
       "      <td>Joe Smith</td>\n",
       "      <td>21</td>\n",
       "      <td>7</td>\n",
       "      <td>-8</td>\n",
       "    </tr>\n",
       "    <tr>\n",
       "      <th>97</th>\n",
       "      <td>98</td>\n",
       "      <td>20041103</td>\n",
       "      <td>MIL</td>\n",
       "      <td>E</td>\n",
       "      <td>Zaza Pachulia</td>\n",
       "      <td>25</td>\n",
       "      <td>11</td>\n",
       "      <td>10</td>\n",
       "    </tr>\n",
       "    <tr>\n",
       "      <th>98</th>\n",
       "      <td>99</td>\n",
       "      <td>20041103</td>\n",
       "      <td>MIL</td>\n",
       "      <td>E</td>\n",
       "      <td>Desmond Mason</td>\n",
       "      <td>20</td>\n",
       "      <td>8</td>\n",
       "      <td>8</td>\n",
       "    </tr>\n",
       "    <tr>\n",
       "      <th>99</th>\n",
       "      <td>100</td>\n",
       "      <td>20041103</td>\n",
       "      <td>MIL</td>\n",
       "      <td>E</td>\n",
       "      <td>Toni Kukoč</td>\n",
       "      <td>20</td>\n",
       "      <td>5</td>\n",
       "      <td>5</td>\n",
       "    </tr>\n",
       "  </tbody>\n",
       "</table>\n",
       "<p>100 rows × 8 columns</p>\n",
       "</div>"
      ],
      "text/plain": [
       "      0         1    2  3                 4   5   6   7\n",
       "0     1  20041102  DET  E  Richard Hamilton  42  15  15\n",
       "1     2  20041102  DET  E       Ben Wallace  37  15   6\n",
       "2     3  20041102  DET  E  Chauncey Billups  37  17  12\n",
       "3     4  20041102  DET  E   Rasheed Wallace  34  24  18\n",
       "4     5  20041102  DET  E   Tayshaun Prince  31  10  21\n",
       "..  ...       ...  ... ..               ...  ..  ..  ..\n",
       "95   96  20041103  MIL  E      Dan Gadzuric  22  11  -9\n",
       "96   97  20041103  MIL  E         Joe Smith  21   7  -8\n",
       "97   98  20041103  MIL  E     Zaza Pachulia  25  11  10\n",
       "98   99  20041103  MIL  E     Desmond Mason  20   8   8\n",
       "99  100  20041103  MIL  E        Toni Kukoč  20   5   5\n",
       "\n",
       "[100 rows x 8 columns]"
      ]
     },
     "execution_count": 9,
     "metadata": {},
     "output_type": "execute_result"
    }
   ],
   "source": [
    "\n",
    "\n",
    "xcursor.execute(\"SELECT * FROM nba_playersDate_1  LIMIT 100\")\n",
    "\n",
    "result = xcursor.fetchall()\n",
    "\n",
    "dataset = pd.DataFrame(result)\n",
    "\n",
    "dataset\n",
    "\n"
   ]
  },
  {
   "cell_type": "code",
   "execution_count": 10,
   "metadata": {},
   "outputs": [],
   "source": [
    "\n",
    "\n",
    "xcursor.execute(\"SELECT pts FROM nba_playersDate_1\")\n",
    "\n",
    "result = xcursor.fetchall()\n"
   ]
  },
  {
   "cell_type": "code",
   "execution_count": 12,
   "metadata": {},
   "outputs": [],
   "source": [
    "\n",
    "import matplotlib.pyplot as plt\n"
   ]
  },
  {
   "cell_type": "code",
   "execution_count": 13,
   "metadata": {},
   "outputs": [],
   "source": [
    "#result"
   ]
  },
  {
   "cell_type": "code",
   "execution_count": 14,
   "metadata": {},
   "outputs": [],
   "source": [
    "\n",
    "\n",
    "x = result[ 1: ]\n",
    "\n",
    "\n"
   ]
  },
  {
   "cell_type": "code",
   "execution_count": 15,
   "metadata": {},
   "outputs": [
    {
     "data": {
      "text/plain": [
       "list"
      ]
     },
     "execution_count": 15,
     "metadata": {},
     "output_type": "execute_result"
    }
   ],
   "source": [
    "x.__class__"
   ]
  },
  {
   "cell_type": "code",
   "execution_count": 16,
   "metadata": {},
   "outputs": [],
   "source": [
    "x_flat = [item for sublist in x for item in sublist]"
   ]
  },
  {
   "cell_type": "code",
   "execution_count": 17,
   "metadata": {},
   "outputs": [],
   "source": [
    "## flat_list"
   ]
  },
  {
   "cell_type": "code",
   "execution_count": 18,
   "metadata": {},
   "outputs": [
    {
     "data": {
      "image/png": "[encoded data removed]",
      "text/plain": [
       "<Figure size 432x288 with 1 Axes>"
      ]
     },
     "metadata": {
      "needs_background": "light"
     },
     "output_type": "display_data"
    }
   ],
   "source": [
    "plt.hist(x_flat, bins = 100)\n",
    "plt.show()"
   ]
  },
  {
   "cell_type": "code",
   "execution_count": 19,
   "metadata": {},
   "outputs": [],
   "source": [
    "\n",
    "kk = -0.5\n",
    "##kk = 0\n",
    "xbins = []\n",
    "while kk < 100:\n",
    "    xbins.append(kk)\n",
    "    kk = kk + 1\n",
    "    \n"
   ]
  },
  {
   "cell_type": "code",
   "execution_count": 20,
   "metadata": {},
   "outputs": [],
   "source": [
    "#xbins\n",
    "\n",
    "\n"
   ]
  },
  {
   "cell_type": "code",
   "execution_count": 21,
   "metadata": {},
   "outputs": [
    {
     "name": "stdout",
     "output_type": "stream",
     "text": [
      "Help on function show in module matplotlib.pyplot:\n",
      "\n",
      "show(close=None, block=None)\n",
      "    Display all open figures.\n",
      "    \n",
      "    Parameters\n",
      "    ----------\n",
      "    block : bool, optional\n",
      "        Whether to wait for all figures to be closed before returning.\n",
      "    \n",
      "        If `True` block and run the GUI main loop until all figure windows\n",
      "        are closed.\n",
      "    \n",
      "        If `False` ensure that all figure windows are displayed and return\n",
      "        immediately.  In this case, you are responsible for ensuring\n",
      "        that the event loop is running to have responsive figures.\n",
      "    \n",
      "        Defaults to True in non-interactive mode and to False in interactive\n",
      "        mode (see `.pyplot.isinteractive`).\n",
      "    \n",
      "    See Also\n",
      "    --------\n",
      "    ion : Enable interactive mode, which shows / updates the figure after\n",
      "          every plotting command, so that calling ``show()`` is not necessary.\n",
      "    ioff : Disable interactive mode.\n",
      "    savefig : Save the figure to an image file instead of showing it on screen.\n",
      "    \n",
      "    Notes\n",
      "    -----\n",
      "    **Saving figures to file and showing a window at the same time**\n",
      "    \n",
      "    If you want an image file as well as a user interface window, use\n",
      "    `.pyplot.savefig` before `.pyplot.show`. At the end of (a blocking)\n",
      "    ``show()`` the figure is closed and thus unregistered from pyplot. Calling\n",
      "    `.pyplot.savefig` afterwards would save a new and thus empty figure. This\n",
      "    limitation of command order does not apply if the show is non-blocking or\n",
      "    if you keep a reference to the figure and use `.Figure.savefig`.\n",
      "    \n",
      "    **Auto-show in jupyter notebooks**\n",
      "    \n",
      "    The jupyter backends (activated via ``%matplotlib inline``,\n",
      "    ``%matplotlib notebook``, or ``%matplotlib widget``), call ``show()`` at\n",
      "    the end of every cell by default. Thus, you usually don't have to call it\n",
      "    explicitly there.\n",
      "\n"
     ]
    }
   ],
   "source": [
    "help(plt.show)"
   ]
  },
  {
   "cell_type": "code",
   "execution_count": 22,
   "metadata": {},
   "outputs": [
    {
     "data": {
      "image/png": "[encoded data removed]",
      "text/plain": [
       "<Figure size 1120x560 with 1 Axes>"
      ]
     },
     "metadata": {},
     "output_type": "display_data"
    }
   ],
   "source": [
    "\n",
    "plt.figure(figsize=(14, 7), dpi= 80, facecolor='w', edgecolor='k')\n",
    "plt.hist(x_flat, bins = xbins)\n",
    "\n",
    "plt.show()\n"
   ]
  },
  {
   "cell_type": "code",
   "execution_count": null,
   "metadata": {},
   "outputs": [],
   "source": []
  },
  {
   "cell_type": "code",
   "execution_count": null,
   "metadata": {},
   "outputs": [],
   "source": []
  }
 ],
 "metadata": {
  "kernelspec": {
   "display_name": "Python 3",
   "language": "python",
   "name": "python3"
  },
  "language_info": {
   "codemirror_mode": {
    "name": "ipython",
    "version": 3
   },
   "file_extension": ".py",
   "mimetype": "text/x-python",
   "name": "python",
   "nbconvert_exporter": "python",
   "pygments_lexer": "ipython3",
   "version": "3.9.4"
  }
 },
 "nbformat": 4,
 "nbformat_minor": 4
}
