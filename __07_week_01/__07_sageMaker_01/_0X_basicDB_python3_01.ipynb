{
 "cells": [
  {
   "cell_type": "code",
   "execution_count": 28,
   "metadata": {
    "button": false,
    "collapsed": false,
    "jupyter": {
     "outputs_hidden": false
    },
    "new_sheet": false,
    "run_control": {
     "read_only": false
    }
   },
   "outputs": [],
   "source": [
    "\n",
    "\n",
    "########!pip install mysql\n",
    "\n",
    "## import mysql.connector\n"
   ]
  },
  {
   "cell_type": "code",
   "execution_count": 1,
   "metadata": {},
   "outputs": [
    {
     "name": "stdout",
     "output_type": "stream",
     "text": [
      "Requirement already satisfied: pip in /usr/local/lib/python3.9/site-packages (21.1.1)\n"
     ]
    }
   ],
   "source": [
    "\n",
    "\n",
    "!pip3 install --upgrade pip\n",
    "\n"
   ]
  },
  {
   "cell_type": "code",
   "execution_count": 2,
   "metadata": {},
   "outputs": [
    {
     "name": "stdout",
     "output_type": "stream",
     "text": [
      "Requirement already satisfied: mysql in /usr/local/lib/python3.9/site-packages (0.0.2)\n",
      "Requirement already satisfied: mysqlclient in /usr/local/lib/python3.9/site-packages (from mysql) (2.0.3)\n"
     ]
    }
   ],
   "source": [
    "!pip3 install mysql"
   ]
  },
  {
   "cell_type": "code",
   "execution_count": 3,
   "metadata": {
    "button": false,
    "collapsed": false,
    "jupyter": {
     "outputs_hidden": false
    },
    "new_sheet": false,
    "run_control": {
     "read_only": false
    }
   },
   "outputs": [
    {
     "name": "stdout",
     "output_type": "stream",
     "text": [
      "Requirement already satisfied: mysql-connector-python-rf in /usr/local/lib/python3.9/site-packages (2.2.2)\n"
     ]
    }
   ],
   "source": [
    "\n",
    "!pip3 install mysql-connector-python-rf\n",
    "\n"
   ]
  },
  {
   "cell_type": "code",
   "execution_count": 4,
   "metadata": {},
   "outputs": [
    {
     "name": "stdout",
     "output_type": "stream",
     "text": [
      "Requirement already satisfied: matplotlib in /usr/local/lib/python3.9/site-packages (3.4.2)\n",
      "Requirement already satisfied: pillow>=6.2.0 in /usr/local/lib/python3.9/site-packages (from matplotlib) (8.2.0)\n",
      "Requirement already satisfied: cycler>=0.10 in /usr/local/lib/python3.9/site-packages (from matplotlib) (0.10.0)\n",
      "Requirement already satisfied: numpy>=1.16 in /usr/local/lib/python3.9/site-packages (from matplotlib) (1.20.3)\n",
      "Requirement already satisfied: pyparsing>=2.2.1 in /usr/local/lib/python3.9/site-packages (from matplotlib) (2.4.7)\n",
      "Requirement already satisfied: python-dateutil>=2.7 in /usr/local/lib/python3.9/site-packages (from matplotlib) (2.8.1)\n",
      "Requirement already satisfied: kiwisolver>=1.0.1 in /usr/local/lib/python3.9/site-packages (from matplotlib) (1.3.1)\n",
      "Requirement already satisfied: six in /usr/local/Cellar/protobuf/3.15.8/libexec/lib/python3.9/site-packages (from cycler>=0.10->matplotlib) (1.15.0)\n"
     ]
    }
   ],
   "source": [
    "!pip3 install matplotlib"
   ]
  },
  {
   "cell_type": "code",
   "execution_count": 5,
   "metadata": {},
   "outputs": [
    {
     "name": "stdout",
     "output_type": "stream",
     "text": [
      "Requirement already satisfied: pandas in /usr/local/lib/python3.9/site-packages (1.2.4)\n",
      "Requirement already satisfied: numpy>=1.16.5 in /usr/local/lib/python3.9/site-packages (from pandas) (1.20.3)\n",
      "Requirement already satisfied: python-dateutil>=2.7.3 in /usr/local/lib/python3.9/site-packages (from pandas) (2.8.1)\n",
      "Requirement already satisfied: pytz>=2017.3 in /usr/local/lib/python3.9/site-packages (from pandas) (2021.1)\n",
      "Requirement already satisfied: six>=1.5 in /usr/local/Cellar/protobuf/3.15.8/libexec/lib/python3.9/site-packages (from python-dateutil>=2.7.3->pandas) (1.15.0)\n"
     ]
    }
   ],
   "source": [
    "!pip3 install pandas"
   ]
  },
  {
   "cell_type": "code",
   "execution_count": 6,
   "metadata": {
    "button": false,
    "new_sheet": false,
    "run_control": {
     "read_only": false
    }
   },
   "outputs": [],
   "source": [
    "\n",
    "import mysql\n"
   ]
  },
  {
   "cell_type": "code",
   "execution_count": 7,
   "metadata": {
    "button": false,
    "collapsed": false,
    "jupyter": {
     "outputs_hidden": false
    },
    "new_sheet": false,
    "run_control": {
     "read_only": false
    }
   },
   "outputs": [
    {
     "data": {
      "text/plain": [
       "'/Users/davezes/Files/Creations/UCLAteaching/2021_02/MAS405/__code_base/__07_week_01/__07_sageMaker_01'"
      ]
     },
     "execution_count": 7,
     "metadata": {},
     "output_type": "execute_result"
    }
   ],
   "source": [
    "import os\n",
    "\n",
    "os.getcwd()"
   ]
  },
  {
   "cell_type": "code",
   "execution_count": 8,
   "metadata": {
    "button": false,
    "new_sheet": false,
    "run_control": {
     "read_only": false
    }
   },
   "outputs": [],
   "source": [
    "\n",
    "## exec(open(\"/home/ec2-user/SageMaker/_0X_params.py\").read())\n",
    "\n",
    "exec(open(\"_0X_params.py\").read())\n"
   ]
  },
  {
   "cell_type": "code",
   "execution_count": 9,
   "metadata": {
    "button": false,
    "collapsed": false,
    "jupyter": {
     "outputs_hidden": false
    },
    "new_sheet": false,
    "run_control": {
     "read_only": false
    }
   },
   "outputs": [
    {
     "data": {
      "text/plain": [
       "'ROuser'"
      ]
     },
     "execution_count": 9,
     "metadata": {},
     "output_type": "execute_result"
    }
   ],
   "source": [
    "xdbuser"
   ]
  },
  {
   "cell_type": "code",
   "execution_count": 10,
   "metadata": {
    "button": false,
    "new_sheet": false,
    "run_control": {
     "read_only": false
    }
   },
   "outputs": [],
   "source": [
    "\n",
    "\n",
    "\n",
    "import mysql.connector   \n",
    "\n",
    "\n",
    "\n",
    "\n",
    "\n"
   ]
  },
  {
   "cell_type": "code",
   "execution_count": 11,
   "metadata": {
    "button": false,
    "new_sheet": false,
    "run_control": {
     "read_only": false
    }
   },
   "outputs": [],
   "source": [
    "\n",
    "cnx = mysql.connector.connect(user=xdbuser, \n",
    "                              password=xpw,\n",
    "                              host=xdbhost,\n",
    "                              database=xdbname\n",
    "                             )\n",
    "\n"
   ]
  },
  {
   "cell_type": "code",
   "execution_count": 12,
   "metadata": {
    "button": false,
    "collapsed": false,
    "jupyter": {
     "outputs_hidden": false
    },
    "new_sheet": false,
    "run_control": {
     "read_only": false
    }
   },
   "outputs": [
    {
     "name": "stdout",
     "output_type": "stream",
     "text": [
      "[(bytearray(b'dataDictionary'),), (bytearray(b'forex_byMinute_CHFJPY'),), (bytearray(b'metadata'),), (bytearray(b'nba_gameDate_1'),), (bytearray(b'nba_playersDate_1'),), (bytearray(b'nba_teamDate_1'),), (bytearray(b'nhl_gameDate_1'),), (bytearray(b'nhl_goaliesDate_1'),), (bytearray(b'nhl_playersDate_1'),), (bytearray(b'nhl_teamDate_1'),), (bytearray(b'ozone_data'),), (bytearray(b'ozone_data_test'),)]\n"
     ]
    }
   ],
   "source": [
    "\n",
    "xcursor = cnx.cursor()\n",
    "\n",
    "xcursor.execute(\"SHOW TABLES\")\n",
    "\n",
    "result = xcursor.fetchall()\n",
    "print(result)\n"
   ]
  },
  {
   "cell_type": "code",
   "execution_count": 13,
   "metadata": {
    "button": false,
    "collapsed": false,
    "jupyter": {
     "outputs_hidden": false
    },
    "new_sheet": false,
    "run_control": {
     "read_only": false
    }
   },
   "outputs": [
    {
     "name": "stdout",
     "output_type": "stream",
     "text": [
      "[('ID', b'int', 'NO', bytearray(b'PRI'), None, 'auto_increment'), ('date', b'int', 'YES', bytearray(b''), None, ''), ('team', b'varchar(3)', 'YES', bytearray(b''), None, ''), ('conf', b'varchar(1)', 'YES', bytearray(b''), None, ''), ('name', b'text', 'YES', bytearray(b''), None, ''), ('min', b'int', 'YES', bytearray(b''), None, ''), ('pts', b'int', 'YES', bytearray(b''), None, ''), ('plmin', b'int', 'YES', bytearray(b''), None, '')]\n"
     ]
    }
   ],
   "source": [
    "\n",
    "\n",
    "#xcursor = cnx.cursor()\n",
    "\n",
    "xcursor.execute(\"SHOW COLUMNS FROM nba_playersDate_1\")\n",
    "\n",
    "result = xcursor.fetchall()\n",
    "print(result)\n"
   ]
  },
  {
   "cell_type": "code",
   "execution_count": 14,
   "metadata": {
    "button": false,
    "collapsed": false,
    "jupyter": {
     "outputs_hidden": false
    },
    "new_sheet": false,
    "run_control": {
     "read_only": false
    }
   },
   "outputs": [
    {
     "name": "stdout",
     "output_type": "stream",
     "text": [
      "('ID', b'int', 'NO', bytearray(b'PRI'), None, 'auto_increment')\n",
      "('date', b'int', 'YES', bytearray(b''), None, '')\n",
      "('team', b'varchar(3)', 'YES', bytearray(b''), None, '')\n",
      "('conf', b'varchar(1)', 'YES', bytearray(b''), None, '')\n",
      "('name', b'text', 'YES', bytearray(b''), None, '')\n",
      "('min', b'int', 'YES', bytearray(b''), None, '')\n",
      "('pts', b'int', 'YES', bytearray(b''), None, '')\n",
      "('plmin', b'int', 'YES', bytearray(b''), None, '')\n"
     ]
    }
   ],
   "source": [
    "it_result = iter(result)\n",
    "\n",
    "for row in it_result:\n",
    "    print(row)\n"
   ]
  },
  {
   "cell_type": "code",
   "execution_count": 15,
   "metadata": {
    "button": false,
    "collapsed": false,
    "jupyter": {
     "outputs_hidden": false
    },
    "new_sheet": false,
    "run_control": {
     "read_only": false
    }
   },
   "outputs": [
    {
     "name": "stdout",
     "output_type": "stream",
     "text": [
      "[(1, 20041102, 'DET', 'E', 'Richard Hamilton', 42, 15, 15), (2, 20041102, 'DET', 'E', 'Ben Wallace', 37, 15, 6), (3, 20041102, 'DET', 'E', 'Chauncey Billups', 37, 17, 12), (4, 20041102, 'DET', 'E', 'Rasheed Wallace', 34, 24, 18), (5, 20041102, 'DET', 'E', 'Tayshaun Prince', 31, 10, 21), (6, 20041102, 'DET', 'E', 'Elden Campbell', 14, 1, 5), (7, 20041102, 'DET', 'E', 'Carlos Delfino', 12, 0, -6), (8, 20041102, 'DET', 'E', 'Lindsey Hunter', 10, 2, -6), (9, 20041102, 'DET', 'E', 'Antonio McDyess', 9, 3, -13), (10, 20041102, 'DET', 'E', 'Darvin Ham', 8, 0, -12), (11, 20041102, 'HOU', 'W', 'Jim Jackson', 39, 10, -15), (12, 20041102, 'HOU', 'W', 'Tracy McGrady', 35, 18, -1), (13, 20041102, 'HOU', 'W', 'Yao Ming', 32, 7, -10), (14, 20041102, 'HOU', 'W', 'Charlie Ward', 29, 13, -6), (15, 20041102, 'HOU', 'W', 'Maurice Taylor', 27, 12, 7), (16, 20041102, 'HOU', 'W', 'Boštjan Nachbar', 20, 8, -4), (17, 20041102, 'HOU', 'W', 'Juwan Howard', 20, 2, -12), (18, 20041102, 'HOU', 'W', 'Tyronn Lue', 19, 4, 0), (19, 20041102, 'HOU', 'W', 'Dikembe Mutombo', 14, 5, 1), (20, 20041102, 'HOU', 'W', 'Clarence Weatherspoon', 0, 0, 2), (21, 20041102, 'HOU', 'W', 'Ryan Bowen', 0, 0, -2), (22, 20041102, 'DAL', 'W', 'Dirk Nowitzki', 42, 33, 15), (23, 20041102, 'DAL', 'W', 'Michael Finley', 35, 18, 11), (24, 20041102, 'DAL', 'W', 'Erick Dampier', 33, 11, 2), (25, 20041102, 'DAL', 'W', 'Devin Harris', 30, 8, 5), (26, 20041102, 'DAL', 'W', 'Josh Howard', 18, 6, 3), (27, 20041102, 'DAL', 'W', 'Jerry Stackhouse', 21, 8, 8), (28, 20041102, 'DAL', 'W', 'Marquis Daniels', 19, 8, -2), (29, 20041102, 'DAL', 'W', 'Alan Henderson', 18, 6, -2), (30, 20041102, 'DAL', 'W', 'Jason Terry', 17, 9, 4), (31, 20041102, 'DAL', 'W', 'Shawn Bradley', 1, 0, 1), (32, 20041102, 'SAC', 'W', 'Peja Stojaković', 39, 12, -2), (33, 20041102, 'SAC', 'W', 'Brad Miller', 37, 24, -4), (34, 20041102, 'SAC', 'W', 'Chris Webber', 35, 21, -5), (35, 20041102, 'SAC', 'W', 'Mike Bibby', 27, 8, -12), (36, 20041102, 'SAC', 'W', 'Maurice Evans', 20, 2, -5), (37, 20041102, 'SAC', 'W', 'Matt Barnes', 29, 17, -6), (38, 20041102, 'SAC', 'W', 'Bobby Jackson', 20, 11, 3), (39, 20041102, 'SAC', 'W', 'Darius Songaila', 12, 2, -4), (40, 20041102, 'SAC', 'W', 'Greg Ostertag', 10, 0, -5), (41, 20041102, 'SAC', 'W', 'Kevin Martin', 6, 1, -5), (42, 20041102, 'DEN', 'W', 'Carmelo Anthony', 39, 20, -4), (43, 20041102, 'DEN', 'W', 'Marcus Camby', 35, 8, 1), (44, 20041102, 'DEN', 'W', 'Andre Miller', 34, 10, -4), (45, 20041102, 'DEN', 'W', 'Kenyon Martin', 32, 13, -2), (46, 20041102, 'DEN', 'W', 'Voshon Lenard', 24, 13, -7), (47, 20041102, 'DEN', 'W', 'Nenê Hilário', 17, 2, -14), (48, 20041102, 'DEN', 'W', 'Earl Boykins', 17, 3, -7), (49, 20041102, 'DEN', 'W', 'Greg Buckner', 15, 2, -6), (50, 20041102, 'DEN', 'W', 'Rodney White', 10, 2, -13), (51, 20041102, 'DEN', 'W', 'Francisco Elson', 8, 0, -3), (52, 20041102, 'DEN', 'W', 'DerMarr Johnson', 3, 5, 4), (53, 20041102, 'LAL', 'W', 'Kobe Bryant', 41, 25, 13), (54, 20041102, 'LAL', 'W', 'Chucky Atkins', 34, 8, -1), (55, 20041102, 'LAL', 'W', 'Chris Mihm', 34, 23, 4), (56, 20041102, 'LAL', 'W', 'Caron Butler', 27, 11, -2), (57, 20041102, 'LAL', 'W', 'Lamar Odom', 25, 5, -5), (58, 20041102, 'LAL', 'W', 'Brian Cook', 25, 10, 17), (59, 20041102, 'LAL', 'W', 'Jumaine Jones', 20, 3, 13), (60, 20041102, 'LAL', 'W', 'Tierre Brown', 13, 2, 12), (61, 20041102, 'LAL', 'W', 'Brian Grant', 10, 2, 6), (62, 20041102, 'LAL', 'W', 'Kareem Rush', 6, 0, -2), (63, 20041103, 'CLE', 'E', 'LeBron James', 50, 28, -10), (64, 20041103, 'CLE', 'E', 'Zydrunas Ilgauskas', 49, 35, -13), (65, 20041103, 'CLE', 'E', 'Jeff McInnis', 47, 7, -4), (66, 20041103, 'CLE', 'E', 'Drew Gooden', 25, 4, -2), (67, 20041103, 'CLE', 'E', 'Lucious Harris', 21, 2, 4), (68, 20041103, 'CLE', 'E', 'Eric Snow', 33, 6, -13), (69, 20041103, 'CLE', 'E', 'Robert Traylor', 32, 11, -4), (70, 20041103, 'CLE', 'E', 'Sasha Pavlović', 11, 5, 2), (71, 20041103, 'CLE', 'E', 'Ira Newble', 8, 2, 5), (72, 20041103, 'CLE', 'E', 'Scott Williams', 8, 4, 10), (73, 20041103, 'HOU', 'W', 'Tracy McGrady', 42, 21, -11), (74, 20041103, 'HOU', 'W', 'Jim Jackson', 40, 8, -7), (75, 20041103, 'HOU', 'W', 'Maurice Taylor', 32, 13, 0), (76, 20041103, 'HOU', 'W', 'Yao Ming', 31, 17, -1), (77, 20041103, 'HOU', 'W', 'Charlie Ward', 25, 8, -12), (78, 20041103, 'HOU', 'W', 'Tyronn Lue', 22, 2, 5), (79, 20041103, 'HOU', 'W', 'Juwan Howard', 18, 10, -10), (80, 20041103, 'HOU', 'W', 'Clarence Weatherspoon', 14, 8, 1), (81, 20041103, 'HOU', 'W', 'Boštjan Nachbar', 13, 1, 4), (82, 20041103, 'HOU', 'W', 'Scott Padgett', 0, 0, -2), (83, 20041103, 'HOU', 'W', 'Ryan Bowen', 0, 0, -2), (84, 20041103, 'IND', 'E', 'Metta World Peace', 49, 31, 11), (85, 20041103, 'IND', 'E', 'Scot Pollard', 45, 10, 11), (86, 20041103, 'IND', 'E', 'Jamaal Tinsley', 45, 15, 8), (87, 20041103, 'IND', 'E', 'Stephen Jackson', 43, 9, 0), (88, 20041103, 'IND', 'E', 'Austin Croshere', 42, 20, -3), (89, 20041103, 'IND', 'E', 'Fred Jones', 26, 9, 1), (90, 20041103, 'IND', 'E', 'Jonathan Bender', 15, 11, 1), (91, 20041103, 'IND', 'E', 'Eddie Gill', 13, 4, -1), (92, 20041103, 'IND', 'E', 'David Harrison', 7, 0, -3), (93, 20041103, 'MIL', 'E', 'Michael Redd', 42, 19, -9), (94, 20041103, 'MIL', 'E', 'Mo Williams', 38, 10, 2), (95, 20041103, 'MIL', 'E', 'Keith Van Horn', 33, 14, -7), (96, 20041103, 'MIL', 'E', 'Dan Gadzuric', 22, 11, -9), (97, 20041103, 'MIL', 'E', 'Joe Smith', 21, 7, -8), (98, 20041103, 'MIL', 'E', 'Zaza Pachulia', 25, 11, 10), (99, 20041103, 'MIL', 'E', 'Desmond Mason', 20, 8, 8), (100, 20041103, 'MIL', 'E', 'Toni Kukoč', 20, 5, 5)]\n"
     ]
    }
   ],
   "source": [
    "\n",
    "\n",
    "xcursor.execute(\"SELECT * FROM nba_playersDate_1  LIMIT 100\")\n",
    "\n",
    "result = xcursor.fetchall()\n",
    "print(result)\n",
    "\n"
   ]
  },
  {
   "cell_type": "code",
   "execution_count": 16,
   "metadata": {
    "button": false,
    "collapsed": false,
    "jupyter": {
     "outputs_hidden": false
    },
    "new_sheet": false,
    "run_control": {
     "read_only": false
    }
   },
   "outputs": [
    {
     "name": "stdout",
     "output_type": "stream",
     "text": [
      "(1, 20041102, 'DET', 'E', 'Richard Hamilton', 42, 15, 15)\n",
      "(2, 20041102, 'DET', 'E', 'Ben Wallace', 37, 15, 6)\n",
      "(3, 20041102, 'DET', 'E', 'Chauncey Billups', 37, 17, 12)\n",
      "(4, 20041102, 'DET', 'E', 'Rasheed Wallace', 34, 24, 18)\n",
      "(5, 20041102, 'DET', 'E', 'Tayshaun Prince', 31, 10, 21)\n",
      "(6, 20041102, 'DET', 'E', 'Elden Campbell', 14, 1, 5)\n",
      "(7, 20041102, 'DET', 'E', 'Carlos Delfino', 12, 0, -6)\n",
      "(8, 20041102, 'DET', 'E', 'Lindsey Hunter', 10, 2, -6)\n",
      "(9, 20041102, 'DET', 'E', 'Antonio McDyess', 9, 3, -13)\n",
      "(10, 20041102, 'DET', 'E', 'Darvin Ham', 8, 0, -12)\n",
      "(11, 20041102, 'HOU', 'W', 'Jim Jackson', 39, 10, -15)\n",
      "(12, 20041102, 'HOU', 'W', 'Tracy McGrady', 35, 18, -1)\n",
      "(13, 20041102, 'HOU', 'W', 'Yao Ming', 32, 7, -10)\n",
      "(14, 20041102, 'HOU', 'W', 'Charlie Ward', 29, 13, -6)\n",
      "(15, 20041102, 'HOU', 'W', 'Maurice Taylor', 27, 12, 7)\n",
      "(16, 20041102, 'HOU', 'W', 'Boštjan Nachbar', 20, 8, -4)\n",
      "(17, 20041102, 'HOU', 'W', 'Juwan Howard', 20, 2, -12)\n",
      "(18, 20041102, 'HOU', 'W', 'Tyronn Lue', 19, 4, 0)\n",
      "(19, 20041102, 'HOU', 'W', 'Dikembe Mutombo', 14, 5, 1)\n",
      "(20, 20041102, 'HOU', 'W', 'Clarence Weatherspoon', 0, 0, 2)\n",
      "(21, 20041102, 'HOU', 'W', 'Ryan Bowen', 0, 0, -2)\n",
      "(22, 20041102, 'DAL', 'W', 'Dirk Nowitzki', 42, 33, 15)\n",
      "(23, 20041102, 'DAL', 'W', 'Michael Finley', 35, 18, 11)\n",
      "(24, 20041102, 'DAL', 'W', 'Erick Dampier', 33, 11, 2)\n",
      "(25, 20041102, 'DAL', 'W', 'Devin Harris', 30, 8, 5)\n",
      "(26, 20041102, 'DAL', 'W', 'Josh Howard', 18, 6, 3)\n",
      "(27, 20041102, 'DAL', 'W', 'Jerry Stackhouse', 21, 8, 8)\n",
      "(28, 20041102, 'DAL', 'W', 'Marquis Daniels', 19, 8, -2)\n",
      "(29, 20041102, 'DAL', 'W', 'Alan Henderson', 18, 6, -2)\n",
      "(30, 20041102, 'DAL', 'W', 'Jason Terry', 17, 9, 4)\n",
      "(31, 20041102, 'DAL', 'W', 'Shawn Bradley', 1, 0, 1)\n",
      "(32, 20041102, 'SAC', 'W', 'Peja Stojaković', 39, 12, -2)\n",
      "(33, 20041102, 'SAC', 'W', 'Brad Miller', 37, 24, -4)\n",
      "(34, 20041102, 'SAC', 'W', 'Chris Webber', 35, 21, -5)\n",
      "(35, 20041102, 'SAC', 'W', 'Mike Bibby', 27, 8, -12)\n",
      "(36, 20041102, 'SAC', 'W', 'Maurice Evans', 20, 2, -5)\n",
      "(37, 20041102, 'SAC', 'W', 'Matt Barnes', 29, 17, -6)\n",
      "(38, 20041102, 'SAC', 'W', 'Bobby Jackson', 20, 11, 3)\n",
      "(39, 20041102, 'SAC', 'W', 'Darius Songaila', 12, 2, -4)\n",
      "(40, 20041102, 'SAC', 'W', 'Greg Ostertag', 10, 0, -5)\n",
      "(41, 20041102, 'SAC', 'W', 'Kevin Martin', 6, 1, -5)\n",
      "(42, 20041102, 'DEN', 'W', 'Carmelo Anthony', 39, 20, -4)\n",
      "(43, 20041102, 'DEN', 'W', 'Marcus Camby', 35, 8, 1)\n",
      "(44, 20041102, 'DEN', 'W', 'Andre Miller', 34, 10, -4)\n",
      "(45, 20041102, 'DEN', 'W', 'Kenyon Martin', 32, 13, -2)\n",
      "(46, 20041102, 'DEN', 'W', 'Voshon Lenard', 24, 13, -7)\n",
      "(47, 20041102, 'DEN', 'W', 'Nenê Hilário', 17, 2, -14)\n",
      "(48, 20041102, 'DEN', 'W', 'Earl Boykins', 17, 3, -7)\n",
      "(49, 20041102, 'DEN', 'W', 'Greg Buckner', 15, 2, -6)\n",
      "(50, 20041102, 'DEN', 'W', 'Rodney White', 10, 2, -13)\n",
      "(51, 20041102, 'DEN', 'W', 'Francisco Elson', 8, 0, -3)\n",
      "(52, 20041102, 'DEN', 'W', 'DerMarr Johnson', 3, 5, 4)\n",
      "(53, 20041102, 'LAL', 'W', 'Kobe Bryant', 41, 25, 13)\n",
      "(54, 20041102, 'LAL', 'W', 'Chucky Atkins', 34, 8, -1)\n",
      "(55, 20041102, 'LAL', 'W', 'Chris Mihm', 34, 23, 4)\n",
      "(56, 20041102, 'LAL', 'W', 'Caron Butler', 27, 11, -2)\n",
      "(57, 20041102, 'LAL', 'W', 'Lamar Odom', 25, 5, -5)\n",
      "(58, 20041102, 'LAL', 'W', 'Brian Cook', 25, 10, 17)\n",
      "(59, 20041102, 'LAL', 'W', 'Jumaine Jones', 20, 3, 13)\n",
      "(60, 20041102, 'LAL', 'W', 'Tierre Brown', 13, 2, 12)\n",
      "(61, 20041102, 'LAL', 'W', 'Brian Grant', 10, 2, 6)\n",
      "(62, 20041102, 'LAL', 'W', 'Kareem Rush', 6, 0, -2)\n",
      "(63, 20041103, 'CLE', 'E', 'LeBron James', 50, 28, -10)\n",
      "(64, 20041103, 'CLE', 'E', 'Zydrunas Ilgauskas', 49, 35, -13)\n",
      "(65, 20041103, 'CLE', 'E', 'Jeff McInnis', 47, 7, -4)\n",
      "(66, 20041103, 'CLE', 'E', 'Drew Gooden', 25, 4, -2)\n",
      "(67, 20041103, 'CLE', 'E', 'Lucious Harris', 21, 2, 4)\n",
      "(68, 20041103, 'CLE', 'E', 'Eric Snow', 33, 6, -13)\n",
      "(69, 20041103, 'CLE', 'E', 'Robert Traylor', 32, 11, -4)\n",
      "(70, 20041103, 'CLE', 'E', 'Sasha Pavlović', 11, 5, 2)\n",
      "(71, 20041103, 'CLE', 'E', 'Ira Newble', 8, 2, 5)\n",
      "(72, 20041103, 'CLE', 'E', 'Scott Williams', 8, 4, 10)\n",
      "(73, 20041103, 'HOU', 'W', 'Tracy McGrady', 42, 21, -11)\n",
      "(74, 20041103, 'HOU', 'W', 'Jim Jackson', 40, 8, -7)\n",
      "(75, 20041103, 'HOU', 'W', 'Maurice Taylor', 32, 13, 0)\n",
      "(76, 20041103, 'HOU', 'W', 'Yao Ming', 31, 17, -1)\n",
      "(77, 20041103, 'HOU', 'W', 'Charlie Ward', 25, 8, -12)\n",
      "(78, 20041103, 'HOU', 'W', 'Tyronn Lue', 22, 2, 5)\n",
      "(79, 20041103, 'HOU', 'W', 'Juwan Howard', 18, 10, -10)\n",
      "(80, 20041103, 'HOU', 'W', 'Clarence Weatherspoon', 14, 8, 1)\n",
      "(81, 20041103, 'HOU', 'W', 'Boštjan Nachbar', 13, 1, 4)\n",
      "(82, 20041103, 'HOU', 'W', 'Scott Padgett', 0, 0, -2)\n",
      "(83, 20041103, 'HOU', 'W', 'Ryan Bowen', 0, 0, -2)\n",
      "(84, 20041103, 'IND', 'E', 'Metta World Peace', 49, 31, 11)\n",
      "(85, 20041103, 'IND', 'E', 'Scot Pollard', 45, 10, 11)\n",
      "(86, 20041103, 'IND', 'E', 'Jamaal Tinsley', 45, 15, 8)\n",
      "(87, 20041103, 'IND', 'E', 'Stephen Jackson', 43, 9, 0)\n",
      "(88, 20041103, 'IND', 'E', 'Austin Croshere', 42, 20, -3)\n",
      "(89, 20041103, 'IND', 'E', 'Fred Jones', 26, 9, 1)\n",
      "(90, 20041103, 'IND', 'E', 'Jonathan Bender', 15, 11, 1)\n",
      "(91, 20041103, 'IND', 'E', 'Eddie Gill', 13, 4, -1)\n",
      "(92, 20041103, 'IND', 'E', 'David Harrison', 7, 0, -3)\n",
      "(93, 20041103, 'MIL', 'E', 'Michael Redd', 42, 19, -9)\n",
      "(94, 20041103, 'MIL', 'E', 'Mo Williams', 38, 10, 2)\n",
      "(95, 20041103, 'MIL', 'E', 'Keith Van Horn', 33, 14, -7)\n",
      "(96, 20041103, 'MIL', 'E', 'Dan Gadzuric', 22, 11, -9)\n",
      "(97, 20041103, 'MIL', 'E', 'Joe Smith', 21, 7, -8)\n",
      "(98, 20041103, 'MIL', 'E', 'Zaza Pachulia', 25, 11, 10)\n",
      "(99, 20041103, 'MIL', 'E', 'Desmond Mason', 20, 8, 8)\n",
      "(100, 20041103, 'MIL', 'E', 'Toni Kukoč', 20, 5, 5)\n"
     ]
    }
   ],
   "source": [
    "it_result = iter(result)\n",
    "\n",
    "for row in it_result:\n",
    "    print(row)"
   ]
  },
  {
   "cell_type": "code",
   "execution_count": 17,
   "metadata": {
    "button": false,
    "new_sheet": false,
    "run_control": {
     "read_only": false
    }
   },
   "outputs": [],
   "source": [
    "\n",
    "\n",
    "import numpy as np\n",
    "import pandas as pd\n"
   ]
  },
  {
   "cell_type": "code",
   "execution_count": 18,
   "metadata": {
    "button": false,
    "new_sheet": false,
    "run_control": {
     "read_only": false
    }
   },
   "outputs": [],
   "source": [
    "\n",
    "dataset = pd.DataFrame(result)\n"
   ]
  },
  {
   "cell_type": "code",
   "execution_count": 19,
   "metadata": {
    "button": false,
    "collapsed": false,
    "jupyter": {
     "outputs_hidden": false
    },
    "new_sheet": false,
    "run_control": {
     "read_only": false
    }
   },
   "outputs": [
    {
     "data": {
      "text/html": [
       "<div>\n",
       "<style scoped>\n",
       "    .dataframe tbody tr th:only-of-type {\n",
       "        vertical-align: middle;\n",
       "    }\n",
       "\n",
       "    .dataframe tbody tr th {\n",
       "        vertical-align: top;\n",
       "    }\n",
       "\n",
       "    .dataframe thead th {\n",
       "        text-align: right;\n",
       "    }\n",
       "</style>\n",
       "<table border=\"1\" class=\"dataframe\">\n",
       "  <thead>\n",
       "    <tr style=\"text-align: right;\">\n",
       "      <th></th>\n",
       "      <th>0</th>\n",
       "      <th>1</th>\n",
       "      <th>2</th>\n",
       "      <th>3</th>\n",
       "      <th>4</th>\n",
       "      <th>5</th>\n",
       "      <th>6</th>\n",
       "      <th>7</th>\n",
       "    </tr>\n",
       "  </thead>\n",
       "  <tbody>\n",
       "    <tr>\n",
       "      <th>0</th>\n",
       "      <td>1</td>\n",
       "      <td>20041102</td>\n",
       "      <td>DET</td>\n",
       "      <td>E</td>\n",
       "      <td>Richard Hamilton</td>\n",
       "      <td>42</td>\n",
       "      <td>15</td>\n",
       "      <td>15</td>\n",
       "    </tr>\n",
       "    <tr>\n",
       "      <th>1</th>\n",
       "      <td>2</td>\n",
       "      <td>20041102</td>\n",
       "      <td>DET</td>\n",
       "      <td>E</td>\n",
       "      <td>Ben Wallace</td>\n",
       "      <td>37</td>\n",
       "      <td>15</td>\n",
       "      <td>6</td>\n",
       "    </tr>\n",
       "    <tr>\n",
       "      <th>2</th>\n",
       "      <td>3</td>\n",
       "      <td>20041102</td>\n",
       "      <td>DET</td>\n",
       "      <td>E</td>\n",
       "      <td>Chauncey Billups</td>\n",
       "      <td>37</td>\n",
       "      <td>17</td>\n",
       "      <td>12</td>\n",
       "    </tr>\n",
       "    <tr>\n",
       "      <th>3</th>\n",
       "      <td>4</td>\n",
       "      <td>20041102</td>\n",
       "      <td>DET</td>\n",
       "      <td>E</td>\n",
       "      <td>Rasheed Wallace</td>\n",
       "      <td>34</td>\n",
       "      <td>24</td>\n",
       "      <td>18</td>\n",
       "    </tr>\n",
       "    <tr>\n",
       "      <th>4</th>\n",
       "      <td>5</td>\n",
       "      <td>20041102</td>\n",
       "      <td>DET</td>\n",
       "      <td>E</td>\n",
       "      <td>Tayshaun Prince</td>\n",
       "      <td>31</td>\n",
       "      <td>10</td>\n",
       "      <td>21</td>\n",
       "    </tr>\n",
       "    <tr>\n",
       "      <th>...</th>\n",
       "      <td>...</td>\n",
       "      <td>...</td>\n",
       "      <td>...</td>\n",
       "      <td>...</td>\n",
       "      <td>...</td>\n",
       "      <td>...</td>\n",
       "      <td>...</td>\n",
       "      <td>...</td>\n",
       "    </tr>\n",
       "    <tr>\n",
       "      <th>95</th>\n",
       "      <td>96</td>\n",
       "      <td>20041103</td>\n",
       "      <td>MIL</td>\n",
       "      <td>E</td>\n",
       "      <td>Dan Gadzuric</td>\n",
       "      <td>22</td>\n",
       "      <td>11</td>\n",
       "      <td>-9</td>\n",
       "    </tr>\n",
       "    <tr>\n",
       "      <th>96</th>\n",
       "      <td>97</td>\n",
       "      <td>20041103</td>\n",
       "      <td>MIL</td>\n",
       "      <td>E</td>\n",
       "      <td>Joe Smith</td>\n",
       "      <td>21</td>\n",
       "      <td>7</td>\n",
       "      <td>-8</td>\n",
       "    </tr>\n",
       "    <tr>\n",
       "      <th>97</th>\n",
       "      <td>98</td>\n",
       "      <td>20041103</td>\n",
       "      <td>MIL</td>\n",
       "      <td>E</td>\n",
       "      <td>Zaza Pachulia</td>\n",
       "      <td>25</td>\n",
       "      <td>11</td>\n",
       "      <td>10</td>\n",
       "    </tr>\n",
       "    <tr>\n",
       "      <th>98</th>\n",
       "      <td>99</td>\n",
       "      <td>20041103</td>\n",
       "      <td>MIL</td>\n",
       "      <td>E</td>\n",
       "      <td>Desmond Mason</td>\n",
       "      <td>20</td>\n",
       "      <td>8</td>\n",
       "      <td>8</td>\n",
       "    </tr>\n",
       "    <tr>\n",
       "      <th>99</th>\n",
       "      <td>100</td>\n",
       "      <td>20041103</td>\n",
       "      <td>MIL</td>\n",
       "      <td>E</td>\n",
       "      <td>Toni Kukoč</td>\n",
       "      <td>20</td>\n",
       "      <td>5</td>\n",
       "      <td>5</td>\n",
       "    </tr>\n",
       "  </tbody>\n",
       "</table>\n",
       "<p>100 rows × 8 columns</p>\n",
       "</div>"
      ],
      "text/plain": [
       "      0         1    2  3                 4   5   6   7\n",
       "0     1  20041102  DET  E  Richard Hamilton  42  15  15\n",
       "1     2  20041102  DET  E       Ben Wallace  37  15   6\n",
       "2     3  20041102  DET  E  Chauncey Billups  37  17  12\n",
       "3     4  20041102  DET  E   Rasheed Wallace  34  24  18\n",
       "4     5  20041102  DET  E   Tayshaun Prince  31  10  21\n",
       "..  ...       ...  ... ..               ...  ..  ..  ..\n",
       "95   96  20041103  MIL  E      Dan Gadzuric  22  11  -9\n",
       "96   97  20041103  MIL  E         Joe Smith  21   7  -8\n",
       "97   98  20041103  MIL  E     Zaza Pachulia  25  11  10\n",
       "98   99  20041103  MIL  E     Desmond Mason  20   8   8\n",
       "99  100  20041103  MIL  E        Toni Kukoč  20   5   5\n",
       "\n",
       "[100 rows x 8 columns]"
      ]
     },
     "execution_count": 19,
     "metadata": {},
     "output_type": "execute_result"
    }
   ],
   "source": [
    "dataset"
   ]
  },
  {
   "cell_type": "code",
   "execution_count": null,
   "metadata": {
    "button": false,
    "new_sheet": false,
    "run_control": {
     "read_only": false
    }
   },
   "outputs": [],
   "source": []
  },
  {
   "cell_type": "code",
   "execution_count": null,
   "metadata": {},
   "outputs": [],
   "source": []
  }
 ],
 "metadata": {
  "kernelspec": {
   "display_name": "Python 3",
   "language": "python",
   "name": "python3"
  },
  "language_info": {
   "codemirror_mode": {
    "name": "ipython",
    "version": 3
   },
   "file_extension": ".py",
   "mimetype": "text/x-python",
   "name": "python",
   "nbconvert_exporter": "python",
   "pygments_lexer": "ipython3",
   "version": "3.9.5"
  }
 },
 "nbformat": 4,
 "nbformat_minor": 4
}
