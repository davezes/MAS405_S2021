{
 "cells": [
  {
   "cell_type": "code",
   "execution_count": 1,
   "metadata": {},
   "outputs": [],
   "source": [
    "\n",
    "import mysql\n"
   ]
  },
  {
   "cell_type": "code",
   "execution_count": 2,
   "metadata": {},
   "outputs": [],
   "source": [
    "\n",
    "\n",
    "\n",
    "import mysql.connector   \n",
    "\n",
    "\n",
    "\n"
   ]
  },
  {
   "cell_type": "code",
   "execution_count": 4,
   "metadata": {},
   "outputs": [],
   "source": [
    "exec(open(\"_0X_params.py\").read())\n"
   ]
  },
  {
   "cell_type": "code",
   "execution_count": 5,
   "metadata": {},
   "outputs": [],
   "source": [
    "\n",
    "cnx = mysql.connector.connect(user=xdbuser, \n",
    "                              password=xpw,\n",
    "                              host=xdbhost,\n",
    "                              database=xdbname\n",
    "                             )\n",
    "\n"
   ]
  },
  {
   "cell_type": "code",
   "execution_count": 6,
   "metadata": {},
   "outputs": [],
   "source": [
    "\n",
    "import numpy as np\n",
    "import pandas as pd\n"
   ]
  },
  {
   "cell_type": "code",
   "execution_count": 7,
   "metadata": {},
   "outputs": [],
   "source": [
    "\n",
    "xcursor = cnx.cursor()\n",
    "\n",
    "xcursor.execute(\"SHOW TABLES\")\n",
    "\n",
    "result = xcursor.fetchall()\n",
    "\n",
    "\n"
   ]
  },
  {
   "cell_type": "code",
   "execution_count": 8,
   "metadata": {},
   "outputs": [
    {
     "name": "stdout",
     "output_type": "stream",
     "text": [
      "[(bytearray(b'dataDictionary'),), (bytearray(b'metadata'),), (bytearray(b'nba_gameDate_1'),), (bytearray(b'nba_playersDate_1'),), (bytearray(b'nba_teamDate_1'),), (bytearray(b'nhl_gameDate_1'),), (bytearray(b'nhl_goaliesDate_1'),), (bytearray(b'nhl_playersDate_1'),), (bytearray(b'nhl_teamDate_1'),), (bytearray(b'ozone_data'),), (bytearray(b'ozone_data_test'),)]\n"
     ]
    }
   ],
   "source": [
    "\n",
    "print(result)\n"
   ]
  },
  {
   "cell_type": "code",
   "execution_count": 9,
   "metadata": {},
   "outputs": [
    {
     "name": "stdout",
     "output_type": "stream",
     "text": [
      "(bytearray(b'dataDictionary'),)\n",
      "(bytearray(b'metadata'),)\n",
      "(bytearray(b'nba_gameDate_1'),)\n",
      "(bytearray(b'nba_playersDate_1'),)\n",
      "(bytearray(b'nba_teamDate_1'),)\n",
      "(bytearray(b'nhl_gameDate_1'),)\n",
      "(bytearray(b'nhl_goaliesDate_1'),)\n",
      "(bytearray(b'nhl_playersDate_1'),)\n",
      "(bytearray(b'nhl_teamDate_1'),)\n",
      "(bytearray(b'ozone_data'),)\n",
      "(bytearray(b'ozone_data_test'),)\n"
     ]
    }
   ],
   "source": [
    "it_result = iter(result)\n",
    "\n",
    "for row in it_result:\n",
    "    print(row)\n",
    "    "
   ]
  },
  {
   "cell_type": "code",
   "execution_count": 10,
   "metadata": {},
   "outputs": [
    {
     "data": {
      "text/html": [
       "<div>\n",
       "<style scoped>\n",
       "    .dataframe tbody tr th:only-of-type {\n",
       "        vertical-align: middle;\n",
       "    }\n",
       "\n",
       "    .dataframe tbody tr th {\n",
       "        vertical-align: top;\n",
       "    }\n",
       "\n",
       "    .dataframe thead th {\n",
       "        text-align: right;\n",
       "    }\n",
       "</style>\n",
       "<table border=\"1\" class=\"dataframe\">\n",
       "  <thead>\n",
       "    <tr style=\"text-align: right;\">\n",
       "      <th></th>\n",
       "      <th>0</th>\n",
       "      <th>1</th>\n",
       "      <th>2</th>\n",
       "      <th>3</th>\n",
       "      <th>4</th>\n",
       "      <th>5</th>\n",
       "      <th>6</th>\n",
       "      <th>7</th>\n",
       "    </tr>\n",
       "  </thead>\n",
       "  <tbody>\n",
       "    <tr>\n",
       "      <th>0</th>\n",
       "      <td>1</td>\n",
       "      <td>20041102</td>\n",
       "      <td>DET</td>\n",
       "      <td>E</td>\n",
       "      <td>Richard Hamilton</td>\n",
       "      <td>42</td>\n",
       "      <td>15</td>\n",
       "      <td>15</td>\n",
       "    </tr>\n",
       "    <tr>\n",
       "      <th>1</th>\n",
       "      <td>2</td>\n",
       "      <td>20041102</td>\n",
       "      <td>DET</td>\n",
       "      <td>E</td>\n",
       "      <td>Ben Wallace</td>\n",
       "      <td>37</td>\n",
       "      <td>15</td>\n",
       "      <td>6</td>\n",
       "    </tr>\n",
       "    <tr>\n",
       "      <th>2</th>\n",
       "      <td>3</td>\n",
       "      <td>20041102</td>\n",
       "      <td>DET</td>\n",
       "      <td>E</td>\n",
       "      <td>Chauncey Billups</td>\n",
       "      <td>37</td>\n",
       "      <td>17</td>\n",
       "      <td>12</td>\n",
       "    </tr>\n",
       "    <tr>\n",
       "      <th>3</th>\n",
       "      <td>4</td>\n",
       "      <td>20041102</td>\n",
       "      <td>DET</td>\n",
       "      <td>E</td>\n",
       "      <td>Rasheed Wallace</td>\n",
       "      <td>34</td>\n",
       "      <td>24</td>\n",
       "      <td>18</td>\n",
       "    </tr>\n",
       "    <tr>\n",
       "      <th>4</th>\n",
       "      <td>5</td>\n",
       "      <td>20041102</td>\n",
       "      <td>DET</td>\n",
       "      <td>E</td>\n",
       "      <td>Tayshaun Prince</td>\n",
       "      <td>31</td>\n",
       "      <td>10</td>\n",
       "      <td>21</td>\n",
       "    </tr>\n",
       "    <tr>\n",
       "      <th>...</th>\n",
       "      <td>...</td>\n",
       "      <td>...</td>\n",
       "      <td>...</td>\n",
       "      <td>...</td>\n",
       "      <td>...</td>\n",
       "      <td>...</td>\n",
       "      <td>...</td>\n",
       "      <td>...</td>\n",
       "    </tr>\n",
       "    <tr>\n",
       "      <th>95</th>\n",
       "      <td>96</td>\n",
       "      <td>20041103</td>\n",
       "      <td>MIL</td>\n",
       "      <td>E</td>\n",
       "      <td>Dan Gadzuric</td>\n",
       "      <td>22</td>\n",
       "      <td>11</td>\n",
       "      <td>-9</td>\n",
       "    </tr>\n",
       "    <tr>\n",
       "      <th>96</th>\n",
       "      <td>97</td>\n",
       "      <td>20041103</td>\n",
       "      <td>MIL</td>\n",
       "      <td>E</td>\n",
       "      <td>Joe Smith</td>\n",
       "      <td>21</td>\n",
       "      <td>7</td>\n",
       "      <td>-8</td>\n",
       "    </tr>\n",
       "    <tr>\n",
       "      <th>97</th>\n",
       "      <td>98</td>\n",
       "      <td>20041103</td>\n",
       "      <td>MIL</td>\n",
       "      <td>E</td>\n",
       "      <td>Zaza Pachulia</td>\n",
       "      <td>25</td>\n",
       "      <td>11</td>\n",
       "      <td>10</td>\n",
       "    </tr>\n",
       "    <tr>\n",
       "      <th>98</th>\n",
       "      <td>99</td>\n",
       "      <td>20041103</td>\n",
       "      <td>MIL</td>\n",
       "      <td>E</td>\n",
       "      <td>Desmond Mason</td>\n",
       "      <td>20</td>\n",
       "      <td>8</td>\n",
       "      <td>8</td>\n",
       "    </tr>\n",
       "    <tr>\n",
       "      <th>99</th>\n",
       "      <td>100</td>\n",
       "      <td>20041103</td>\n",
       "      <td>MIL</td>\n",
       "      <td>E</td>\n",
       "      <td>Toni Kukoč</td>\n",
       "      <td>20</td>\n",
       "      <td>5</td>\n",
       "      <td>5</td>\n",
       "    </tr>\n",
       "  </tbody>\n",
       "</table>\n",
       "<p>100 rows × 8 columns</p>\n",
       "</div>"
      ],
      "text/plain": [
       "      0         1    2  3                 4   5   6   7\n",
       "0     1  20041102  DET  E  Richard Hamilton  42  15  15\n",
       "1     2  20041102  DET  E       Ben Wallace  37  15   6\n",
       "2     3  20041102  DET  E  Chauncey Billups  37  17  12\n",
       "3     4  20041102  DET  E   Rasheed Wallace  34  24  18\n",
       "4     5  20041102  DET  E   Tayshaun Prince  31  10  21\n",
       "..  ...       ...  ... ..               ...  ..  ..  ..\n",
       "95   96  20041103  MIL  E      Dan Gadzuric  22  11  -9\n",
       "96   97  20041103  MIL  E         Joe Smith  21   7  -8\n",
       "97   98  20041103  MIL  E     Zaza Pachulia  25  11  10\n",
       "98   99  20041103  MIL  E     Desmond Mason  20   8   8\n",
       "99  100  20041103  MIL  E        Toni Kukoč  20   5   5\n",
       "\n",
       "[100 rows x 8 columns]"
      ]
     },
     "execution_count": 10,
     "metadata": {},
     "output_type": "execute_result"
    }
   ],
   "source": [
    "\n",
    "\n",
    "xcursor.execute(\"SELECT * FROM nba_playersDate_1  LIMIT 100\")\n",
    "\n",
    "result = xcursor.fetchall()\n",
    "\n",
    "dataset = pd.DataFrame(result)\n",
    "\n",
    "dataset\n",
    "\n"
   ]
  },
  {
   "cell_type": "code",
   "execution_count": 14,
   "metadata": {},
   "outputs": [],
   "source": [
    "\n",
    "xqstr = \"SELECT * FROM nba_gameDate_1  \" + \\\n",
    "\"JOIN nba_playersDate_1  \" + \\\n",
    "     \"ON \" + \\\n",
    "        \"(nba_gameDate_1.date=nba_playersDate_1.date AND nba_gameDate_1.VT=nba_playersDate_1.team)  \" + \\\n",
    "           \" OR \" + \\\n",
    "        \"(nba_gameDate_1.date=nba_playersDate_1.date AND nba_gameDate_1.HT=nba_playersDate_1.team)  \" + \\\n",
    "\"WHERE nba_playersDate_1.pts > 60\" ;\n",
    "\n"
   ]
  },
  {
   "cell_type": "code",
   "execution_count": 15,
   "metadata": {},
   "outputs": [
    {
     "data": {
      "text/plain": [
       "'SELECT * FROM nba_gameDate_1  JOIN nba_playersDate_1  ON (nba_gameDate_1.date=nba_playersDate_1.date AND nba_gameDate_1.VT=nba_playersDate_1.team)   OR (nba_gameDate_1.date=nba_playersDate_1.date AND nba_gameDate_1.HT=nba_playersDate_1.team)  WHERE nba_playersDate_1.pts > 60'"
      ]
     },
     "execution_count": 15,
     "metadata": {},
     "output_type": "execute_result"
    }
   ],
   "source": [
    "xqstr"
   ]
  },
  {
   "cell_type": "code",
   "execution_count": 16,
   "metadata": {},
   "outputs": [],
   "source": [
    "\n",
    "xcursor.execute(xqstr)\n",
    "\n",
    "result = xcursor.fetchall()\n"
   ]
  },
  {
   "cell_type": "code",
   "execution_count": 17,
   "metadata": {},
   "outputs": [],
   "source": [
    "#result"
   ]
  },
  {
   "cell_type": "code",
   "execution_count": 18,
   "metadata": {},
   "outputs": [],
   "source": [
    "resultTable = pd.DataFrame(result)"
   ]
  },
  {
   "cell_type": "code",
   "execution_count": 19,
   "metadata": {},
   "outputs": [
    {
     "name": "stdout",
     "output_type": "stream",
     "text": [
      "      0         1    2    3  4  5    6      7      8       9   ...  \\\n",
      "0   1590  20051220  DAL  LAL  W  W  240  14402   99.6  18,997  ...   \n",
      "1   1823  20060122  TOR  LAL  E  W  240  14400   95.4  18,997  ...   \n",
      "2   3437  20070316  POR  LAL  W  W  265  15900   89.0  18,997  ...   \n",
      "3   5629  20090202  LAL  NYK  W  E  240  14400  102.5  19,763  ...   \n",
      "4  11468  20140124  CHA  NYK  E  E  240  14400   85.1  19,812  ...   \n",
      "5  11720  20140303  CHA  MIA  E  E  240  14400   86.7  19,727  ...   \n",
      "6  15594  20170324  PHX  BOS  W  E  240  14400  109.3  18,624  ...   \n",
      "7  17689  20190123  HOU  NYK  W  E  240  14400  100.0  18,819  ...   \n",
      "8  18063  20190322  SAS  HOU  W  W  240  14400   98.4  18,055  ...   \n",
      "9  18861  20200120  GSW  POR  W  W  265  15900  100.3  19,493  ...   \n",
      "\n",
      "                                               11                  12      13  \\\n",
      "0         STAPLES Center, Los Angeles, California 2005-12-20 22:30:00   32392   \n",
      "1         STAPLES Center, Los Angeles, California 2006-01-22 21:30:00   37078   \n",
      "2         STAPLES Center, Los Angeles, California 2007-03-16 22:30:00   69903   \n",
      "3  Madison Square Garden (IV), New York, New York 2009-02-02 19:30:00  114121   \n",
      "4  Madison Square Garden (IV), New York, New York 2014-01-24 19:30:00  234309   \n",
      "5          AmericanAirlines Arena, Miami, Florida 2014-03-03 19:30:00  239486   \n",
      "6                TD Garden, Boston, Massachusetts 2017-03-24 19:30:00  321502   \n",
      "7  Madison Square Garden (IV), New York, New York 2019-01-23 19:30:00  365961   \n",
      "8                   Toyota Center, Houston, Texas 2019-03-22 20:00:00  373841   \n",
      "9                   Moda Center, Portland, Oregon 2020-01-20 22:00:00  390776   \n",
      "\n",
      "         14   15 16               17  18  19  20  \n",
      "0  20051220  LAL  W      Kobe Bryant  32  62  35  \n",
      "1  20060122  LAL  W      Kobe Bryant  41  81  25  \n",
      "2  20070316  LAL  W      Kobe Bryant  49  65   4  \n",
      "3  20090202  LAL  W      Kobe Bryant  36  61  19  \n",
      "4  20140124  NYK  E  Carmelo Anthony  38  62  34  \n",
      "5  20140303  MIA  E     LeBron James  41  61  16  \n",
      "6  20170324  PHX  W     Devin Booker  44  70  -6  \n",
      "7  20190123  HOU  W     James Harden  40  61  19  \n",
      "8  20190322  HOU  W     James Harden  36  61  18  \n",
      "9  20200120  POR  W   Damian Lillard  45  61  13  \n",
      "\n",
      "[10 rows x 21 columns]\n"
     ]
    }
   ],
   "source": [
    "print(resultTable)"
   ]
  },
  {
   "cell_type": "code",
   "execution_count": null,
   "metadata": {},
   "outputs": [],
   "source": []
  },
  {
   "cell_type": "code",
   "execution_count": null,
   "metadata": {},
   "outputs": [],
   "source": []
  }
 ],
 "metadata": {
  "kernelspec": {
   "display_name": "Python 3",
   "language": "python",
   "name": "python3"
  },
  "language_info": {
   "codemirror_mode": {
    "name": "ipython",
    "version": 3
   },
   "file_extension": ".py",
   "mimetype": "text/x-python",
   "name": "python",
   "nbconvert_exporter": "python",
   "pygments_lexer": "ipython3",
   "version": "3.9.4"
  }
 },
 "nbformat": 4,
 "nbformat_minor": 4
}
