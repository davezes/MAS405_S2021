{
 "cells": [
  {
   "cell_type": "code",
   "execution_count": 28,
   "metadata": {
    "button": false,
    "jupyter": {
     "outputs_hidden": false
    },
    "new_sheet": false,
    "run_control": {
     "read_only": false
    }
   },
   "outputs": [],
   "source": [
    "\n",
    "\n",
    "########!pip install mysql\n",
    "\n",
    "## import mysql.connector\n"
   ]
  },
  {
   "cell_type": "code",
   "execution_count": 3,
   "metadata": {},
   "outputs": [
    {
     "name": "stdout",
     "output_type": "stream",
     "text": [
      "Requirement already satisfied: pip in /usr/local/lib/python3.9/site-packages (21.1.1)\r\n"
     ]
    }
   ],
   "source": [
    "\n",
    "\n",
    "!pip3 install --upgrade pip\n",
    "\n"
   ]
  },
  {
   "cell_type": "code",
   "execution_count": 5,
   "metadata": {},
   "outputs": [
    {
     "name": "stdout",
     "output_type": "stream",
     "text": [
      "Requirement already satisfied: mysql in /usr/local/lib/python3.9/site-packages (0.0.2)\r\n",
      "Requirement already satisfied: mysqlclient in /usr/local/lib/python3.9/site-packages (from mysql) (2.0.3)\r\n"
     ]
    }
   ],
   "source": [
    "!pip3 install mysql"
   ]
  },
  {
   "cell_type": "code",
   "execution_count": 6,
   "metadata": {
    "button": false,
    "jupyter": {
     "outputs_hidden": false
    },
    "new_sheet": false,
    "run_control": {
     "read_only": false
    }
   },
   "outputs": [
    {
     "name": "stdout",
     "output_type": "stream",
     "text": [
      "Requirement already satisfied: mysql-connector-python-rf in /usr/local/lib/python3.9/site-packages (2.2.2)\r\n"
     ]
    }
   ],
   "source": [
    "\n",
    "!pip3 install mysql-connector-python-rf\n",
    "\n"
   ]
  },
  {
   "cell_type": "code",
   "execution_count": 7,
   "metadata": {},
   "outputs": [
    {
     "name": "stdout",
     "output_type": "stream",
     "text": [
      "Requirement already satisfied: matplotlib in /usr/local/lib/python3.9/site-packages (3.4.2)\r\n",
      "Requirement already satisfied: cycler>=0.10 in /usr/local/lib/python3.9/site-packages (from matplotlib) (0.10.0)\r\n",
      "Requirement already satisfied: numpy>=1.16 in /usr/local/lib/python3.9/site-packages (from matplotlib) (1.20.3)\r\n",
      "Requirement already satisfied: kiwisolver>=1.0.1 in /usr/local/lib/python3.9/site-packages (from matplotlib) (1.3.1)\r\n",
      "Requirement already satisfied: pillow>=6.2.0 in /usr/local/lib/python3.9/site-packages (from matplotlib) (8.2.0)\r\n",
      "Requirement already satisfied: pyparsing>=2.2.1 in /usr/local/lib/python3.9/site-packages (from matplotlib) (2.4.7)\r\n",
      "Requirement already satisfied: python-dateutil>=2.7 in /usr/local/lib/python3.9/site-packages (from matplotlib) (2.8.1)\r\n",
      "Requirement already satisfied: six in /usr/local/Cellar/protobuf/3.15.8/libexec/lib/python3.9/site-packages (from cycler>=0.10->matplotlib) (1.15.0)\r\n"
     ]
    }
   ],
   "source": [
    "!pip3 install matplotlib"
   ]
  },
  {
   "cell_type": "code",
   "execution_count": 8,
   "metadata": {},
   "outputs": [
    {
     "name": "stdout",
     "output_type": "stream",
     "text": [
      "Requirement already satisfied: pandas in /usr/local/lib/python3.9/site-packages (1.2.4)\r\n",
      "Requirement already satisfied: python-dateutil>=2.7.3 in /usr/local/lib/python3.9/site-packages (from pandas) (2.8.1)\r\n",
      "Requirement already satisfied: pytz>=2017.3 in /usr/local/lib/python3.9/site-packages (from pandas) (2021.1)\r\n",
      "Requirement already satisfied: numpy>=1.16.5 in /usr/local/lib/python3.9/site-packages (from pandas) (1.20.3)\r\n",
      "Requirement already satisfied: six>=1.5 in /usr/local/Cellar/protobuf/3.15.8/libexec/lib/python3.9/site-packages (from python-dateutil>=2.7.3->pandas) (1.15.0)\r\n"
     ]
    }
   ],
   "source": [
    "!pip3 install pandas"
   ]
  },
  {
   "cell_type": "code",
   "execution_count": 9,
   "metadata": {
    "button": false,
    "new_sheet": false,
    "run_control": {
     "read_only": false
    }
   },
   "outputs": [],
   "source": [
    "\n",
    "import mysql\n"
   ]
  },
  {
   "cell_type": "code",
   "execution_count": 10,
   "metadata": {
    "button": false,
    "jupyter": {
     "outputs_hidden": false
    },
    "new_sheet": false,
    "run_control": {
     "read_only": false
    }
   },
   "outputs": [
    {
     "data": {
      "text/plain": [
       "'/Users/davezes/Files/Creations/UCLAteaching/2021_02/MAS405/__code_base/__07_week_01/__07_sageMaker_01'"
      ]
     },
     "execution_count": 10,
     "metadata": {},
     "output_type": "execute_result"
    }
   ],
   "source": [
    "import os\n",
    "\n",
    "os.getcwd()"
   ]
  },
  {
   "cell_type": "code",
   "execution_count": 13,
   "metadata": {
    "button": false,
    "new_sheet": false,
    "run_control": {
     "read_only": false
    }
   },
   "outputs": [],
   "source": [
    "\n",
    "## exec(open(\"/home/ec2-user/SageMaker/_0X_params.py\").read())\n",
    "\n",
    "exec(open(\"_0X_params.py\").read())\n"
   ]
  },
  {
   "cell_type": "code",
   "execution_count": 14,
   "metadata": {
    "button": false,
    "jupyter": {
     "outputs_hidden": false
    },
    "new_sheet": false,
    "run_control": {
     "read_only": false
    }
   },
   "outputs": [
    {
     "data": {
      "text/plain": [
       "'ROuser'"
      ]
     },
     "execution_count": 14,
     "metadata": {},
     "output_type": "execute_result"
    }
   ],
   "source": [
    "xdbuser"
   ]
  },
  {
   "cell_type": "code",
   "execution_count": 16,
   "metadata": {
    "button": false,
    "new_sheet": false,
    "run_control": {
     "read_only": false
    }
   },
   "outputs": [],
   "source": [
    "\n",
    "\n",
    "\n",
    "import mysql.connector   \n",
    "\n",
    "\n",
    "\n",
    "\n",
    "\n"
   ]
  },
  {
   "cell_type": "code",
   "execution_count": 17,
   "metadata": {
    "button": false,
    "new_sheet": false,
    "run_control": {
     "read_only": false
    }
   },
   "outputs": [],
   "source": [
    "\n",
    "### con\n",
    "\n",
    "cnx = mysql.connector.connect(user=xdbuser, \n",
    "                              password=xpw,\n",
    "                              host=xdbhost,\n",
    "                              database=xdbname\n",
    "                             )\n",
    "\n"
   ]
  },
  {
   "cell_type": "code",
   "execution_count": 19,
   "metadata": {
    "button": false,
    "jupyter": {
     "outputs_hidden": false
    },
    "new_sheet": false,
    "run_control": {
     "read_only": false
    }
   },
   "outputs": [
    {
     "name": "stdout",
     "output_type": "stream",
     "text": [
      "[(bytearray(b'dataDictionary'),), (bytearray(b'forex_byMinute_CHFJPY'),), (bytearray(b'metadata'),), (bytearray(b'nba_gameDate_1'),), (bytearray(b'nba_playersDate_1'),), (bytearray(b'nba_teamDate_1'),), (bytearray(b'nhl_gameDate_1'),), (bytearray(b'nhl_goaliesDate_1'),), (bytearray(b'nhl_playersDate_1'),), (bytearray(b'nhl_teamDate_1'),), (bytearray(b'notes'),), (bytearray(b'ozone_data'),), (bytearray(b'ozone_data_test'),)]\n"
     ]
    }
   ],
   "source": [
    "\n",
    "xcursor = cnx.cursor()\n",
    "\n",
    "xcursor.execute(\"SHOW TABLES\")\n",
    "\n",
    "result = xcursor.fetchall()\n",
    "print(result)\n"
   ]
  },
  {
   "cell_type": "code",
   "execution_count": 20,
   "metadata": {
    "button": false,
    "jupyter": {
     "outputs_hidden": false
    },
    "new_sheet": false,
    "run_control": {
     "read_only": false
    }
   },
   "outputs": [
    {
     "name": "stdout",
     "output_type": "stream",
     "text": [
      "[('ID', b'int', 'NO', bytearray(b'PRI'), None, 'auto_increment'), ('date', b'int', 'YES', bytearray(b''), None, ''), ('team', b'varchar(3)', 'YES', bytearray(b''), None, ''), ('conf', b'varchar(1)', 'YES', bytearray(b''), None, ''), ('name', b'text', 'YES', bytearray(b''), None, ''), ('min', b'int', 'YES', bytearray(b''), None, ''), ('pts', b'int', 'YES', bytearray(b''), None, ''), ('plmin', b'int', 'YES', bytearray(b''), None, '')]\n"
     ]
    }
   ],
   "source": [
    "\n",
    "\n",
    "#xcursor = cnx.cursor()\n",
    "\n",
    "xcursor.execute(\"SHOW COLUMNS FROM nba_playersDate_1\")\n",
    "\n",
    "result = xcursor.fetchall()\n",
    "print(result)\n"
   ]
  },
  {
   "cell_type": "code",
   "execution_count": 21,
   "metadata": {
    "button": false,
    "jupyter": {
     "outputs_hidden": false
    },
    "new_sheet": false,
    "run_control": {
     "read_only": false
    }
   },
   "outputs": [
    {
     "name": "stdout",
     "output_type": "stream",
     "text": [
      "('ID', b'int', 'NO', bytearray(b'PRI'), None, 'auto_increment')\n",
      "('date', b'int', 'YES', bytearray(b''), None, '')\n",
      "('team', b'varchar(3)', 'YES', bytearray(b''), None, '')\n",
      "('conf', b'varchar(1)', 'YES', bytearray(b''), None, '')\n",
      "('name', b'text', 'YES', bytearray(b''), None, '')\n",
      "('min', b'int', 'YES', bytearray(b''), None, '')\n",
      "('pts', b'int', 'YES', bytearray(b''), None, '')\n",
      "('plmin', b'int', 'YES', bytearray(b''), None, '')\n"
     ]
    }
   ],
   "source": [
    "it_result = iter(result)\n",
    "\n",
    "for row in it_result:\n",
    "    print(row)\n"
   ]
  },
  {
   "cell_type": "code",
   "execution_count": 15,
   "metadata": {
    "button": false,
    "jupyter": {
     "outputs_hidden": false
    },
    "new_sheet": false,
    "run_control": {
     "read_only": false
    }
   },
   "outputs": [
    {
     "name": "stdout",
     "output_type": "stream",
     "text": [
      "[(1, 20041102, 'DET', 'E', 'Richard Hamilton', 42, 15, 15), (2, 20041102, 'DET', 'E', 'Ben Wallace', 37, 15, 6), (3, 20041102, 'DET', 'E', 'Chauncey Billups', 37, 17, 12), (4, 20041102, 'DET', 'E', 'Rasheed Wallace', 34, 24, 18), (5, 20041102, 'DET', 'E', 'Tayshaun Prince', 31, 10, 21), (6, 20041102, 'DET', 'E', 'Elden Campbell', 14, 1, 5), (7, 20041102, 'DET', 'E', 'Carlos Delfino', 12, 0, -6), (8, 20041102, 'DET', 'E', 'Lindsey Hunter', 10, 2, -6), (9, 20041102, 'DET', 'E', 'Antonio McDyess', 9, 3, -13), (10, 20041102, 'DET', 'E', 'Darvin Ham', 8, 0, -12), (11, 20041102, 'HOU', 'W', 'Jim Jackson', 39, 10, -15), (12, 20041102, 'HOU', 'W', 'Tracy McGrady', 35, 18, -1), (13, 20041102, 'HOU', 'W', 'Yao Ming', 32, 7, -10), (14, 20041102, 'HOU', 'W', 'Charlie Ward', 29, 13, -6), (15, 20041102, 'HOU', 'W', 'Maurice Taylor', 27, 12, 7), (16, 20041102, 'HOU', 'W', 'Boštjan Nachbar', 20, 8, -4), (17, 20041102, 'HOU', 'W', 'Juwan Howard', 20, 2, -12), (18, 20041102, 'HOU', 'W', 'Tyronn Lue', 19, 4, 0), (19, 20041102, 'HOU', 'W', 'Dikembe Mutombo', 14, 5, 1), (20, 20041102, 'HOU', 'W', 'Clarence Weatherspoon', 0, 0, 2), (21, 20041102, 'HOU', 'W', 'Ryan Bowen', 0, 0, -2), (22, 20041102, 'DAL', 'W', 'Dirk Nowitzki', 42, 33, 15), (23, 20041102, 'DAL', 'W', 'Michael Finley', 35, 18, 11), (24, 20041102, 'DAL', 'W', 'Erick Dampier', 33, 11, 2), (25, 20041102, 'DAL', 'W', 'Devin Harris', 30, 8, 5), (26, 20041102, 'DAL', 'W', 'Josh Howard', 18, 6, 3), (27, 20041102, 'DAL', 'W', 'Jerry Stackhouse', 21, 8, 8), (28, 20041102, 'DAL', 'W', 'Marquis Daniels', 19, 8, -2), (29, 20041102, 'DAL', 'W', 'Alan Henderson', 18, 6, -2), (30, 20041102, 'DAL', 'W', 'Jason Terry', 17, 9, 4), (31, 20041102, 'DAL', 'W', 'Shawn Bradley', 1, 0, 1), (32, 20041102, 'SAC', 'W', 'Peja Stojaković', 39, 12, -2), (33, 20041102, 'SAC', 'W', 'Brad Miller', 37, 24, -4), (34, 20041102, 'SAC', 'W', 'Chris Webber', 35, 21, -5), (35, 20041102, 'SAC', 'W', 'Mike Bibby', 27, 8, -12), (36, 20041102, 'SAC', 'W', 'Maurice Evans', 20, 2, -5), (37, 20041102, 'SAC', 'W', 'Matt Barnes', 29, 17, -6), (38, 20041102, 'SAC', 'W', 'Bobby Jackson', 20, 11, 3), (39, 20041102, 'SAC', 'W', 'Darius Songaila', 12, 2, -4), (40, 20041102, 'SAC', 'W', 'Greg Ostertag', 10, 0, -5), (41, 20041102, 'SAC', 'W', 'Kevin Martin', 6, 1, -5), (42, 20041102, 'DEN', 'W', 'Carmelo Anthony', 39, 20, -4), (43, 20041102, 'DEN', 'W', 'Marcus Camby', 35, 8, 1), (44, 20041102, 'DEN', 'W', 'Andre Miller', 34, 10, -4), (45, 20041102, 'DEN', 'W', 'Kenyon Martin', 32, 13, -2), (46, 20041102, 'DEN', 'W', 'Voshon Lenard', 24, 13, -7), (47, 20041102, 'DEN', 'W', 'Nenê Hilário', 17, 2, -14), (48, 20041102, 'DEN', 'W', 'Earl Boykins', 17, 3, -7), (49, 20041102, 'DEN', 'W', 'Greg Buckner', 15, 2, -6), (50, 20041102, 'DEN', 'W', 'Rodney White', 10, 2, -13), (51, 20041102, 'DEN', 'W', 'Francisco Elson', 8, 0, -3), (52, 20041102, 'DEN', 'W', 'DerMarr Johnson', 3, 5, 4), (53, 20041102, 'LAL', 'W', 'Kobe Bryant', 41, 25, 13), (54, 20041102, 'LAL', 'W', 'Chucky Atkins', 34, 8, -1), (55, 20041102, 'LAL', 'W', 'Chris Mihm', 34, 23, 4), (56, 20041102, 'LAL', 'W', 'Caron Butler', 27, 11, -2), (57, 20041102, 'LAL', 'W', 'Lamar Odom', 25, 5, -5), (58, 20041102, 'LAL', 'W', 'Brian Cook', 25, 10, 17), (59, 20041102, 'LAL', 'W', 'Jumaine Jones', 20, 3, 13), (60, 20041102, 'LAL', 'W', 'Tierre Brown', 13, 2, 12), (61, 20041102, 'LAL', 'W', 'Brian Grant', 10, 2, 6), (62, 20041102, 'LAL', 'W', 'Kareem Rush', 6, 0, -2), (63, 20041103, 'CLE', 'E', 'LeBron James', 50, 28, -10), (64, 20041103, 'CLE', 'E', 'Zydrunas Ilgauskas', 49, 35, -13), (65, 20041103, 'CLE', 'E', 'Jeff McInnis', 47, 7, -4), (66, 20041103, 'CLE', 'E', 'Drew Gooden', 25, 4, -2), (67, 20041103, 'CLE', 'E', 'Lucious Harris', 21, 2, 4), (68, 20041103, 'CLE', 'E', 'Eric Snow', 33, 6, -13), (69, 20041103, 'CLE', 'E', 'Robert Traylor', 32, 11, -4), (70, 20041103, 'CLE', 'E', 'Sasha Pavlović', 11, 5, 2), (71, 20041103, 'CLE', 'E', 'Ira Newble', 8, 2, 5), (72, 20041103, 'CLE', 'E', 'Scott Williams', 8, 4, 10), (73, 20041103, 'HOU', 'W', 'Tracy McGrady', 42, 21, -11), (74, 20041103, 'HOU', 'W', 'Jim Jackson', 40, 8, -7), (75, 20041103, 'HOU', 'W', 'Maurice Taylor', 32, 13, 0), (76, 20041103, 'HOU', 'W', 'Yao Ming', 31, 17, -1), (77, 20041103, 'HOU', 'W', 'Charlie Ward', 25, 8, -12), (78, 20041103, 'HOU', 'W', 'Tyronn Lue', 22, 2, 5), (79, 20041103, 'HOU', 'W', 'Juwan Howard', 18, 10, -10), (80, 20041103, 'HOU', 'W', 'Clarence Weatherspoon', 14, 8, 1), (81, 20041103, 'HOU', 'W', 'Boštjan Nachbar', 13, 1, 4), (82, 20041103, 'HOU', 'W', 'Scott Padgett', 0, 0, -2), (83, 20041103, 'HOU', 'W', 'Ryan Bowen', 0, 0, -2), (84, 20041103, 'IND', 'E', 'Metta World Peace', 49, 31, 11), (85, 20041103, 'IND', 'E', 'Scot Pollard', 45, 10, 11), (86, 20041103, 'IND', 'E', 'Jamaal Tinsley', 45, 15, 8), (87, 20041103, 'IND', 'E', 'Stephen Jackson', 43, 9, 0), (88, 20041103, 'IND', 'E', 'Austin Croshere', 42, 20, -3), (89, 20041103, 'IND', 'E', 'Fred Jones', 26, 9, 1), (90, 20041103, 'IND', 'E', 'Jonathan Bender', 15, 11, 1), (91, 20041103, 'IND', 'E', 'Eddie Gill', 13, 4, -1), (92, 20041103, 'IND', 'E', 'David Harrison', 7, 0, -3), (93, 20041103, 'MIL', 'E', 'Michael Redd', 42, 19, -9), (94, 20041103, 'MIL', 'E', 'Mo Williams', 38, 10, 2), (95, 20041103, 'MIL', 'E', 'Keith Van Horn', 33, 14, -7), (96, 20041103, 'MIL', 'E', 'Dan Gadzuric', 22, 11, -9), (97, 20041103, 'MIL', 'E', 'Joe Smith', 21, 7, -8), (98, 20041103, 'MIL', 'E', 'Zaza Pachulia', 25, 11, 10), (99, 20041103, 'MIL', 'E', 'Desmond Mason', 20, 8, 8), (100, 20041103, 'MIL', 'E', 'Toni Kukoč', 20, 5, 5)]\n"
     ]
    }
   ],
   "source": [
    "\n",
    "\n",
    "xcursor.execute(\"SELECT * FROM nba_playersDate_1  LIMIT 100\")\n",
    "\n",
    "result = xcursor.fetchall()\n",
    "print(result)\n",
    "\n"
   ]
  },
  {
   "cell_type": "code",
   "execution_count": 23,
   "metadata": {
    "button": false,
    "jupyter": {
     "outputs_hidden": false
    },
    "new_sheet": false,
    "run_control": {
     "read_only": false
    }
   },
   "outputs": [
    {
     "name": "stdout",
     "output_type": "stream",
     "text": [
      "('ID', b'int', 'NO', bytearray(b'PRI'), None, 'auto_increment')\n",
      "('date', b'int', 'YES', bytearray(b''), None, '')\n",
      "('team', b'varchar(3)', 'YES', bytearray(b''), None, '')\n",
      "('conf', b'varchar(1)', 'YES', bytearray(b''), None, '')\n",
      "('name', b'text', 'YES', bytearray(b''), None, '')\n",
      "('min', b'int', 'YES', bytearray(b''), None, '')\n",
      "('pts', b'int', 'YES', bytearray(b''), None, '')\n",
      "('plmin', b'int', 'YES', bytearray(b''), None, '')\n"
     ]
    }
   ],
   "source": [
    "it_result = iter(result)\n",
    "\n",
    "for row in it_result:\n",
    "    print(row)"
   ]
  },
  {
   "cell_type": "code",
   "execution_count": 25,
   "metadata": {
    "button": false,
    "new_sheet": false,
    "run_control": {
     "read_only": false
    }
   },
   "outputs": [],
   "source": [
    "\n",
    "\n",
    "import numpy as np\n",
    "import pandas as pd\n"
   ]
  },
  {
   "cell_type": "code",
   "execution_count": 26,
   "metadata": {
    "button": false,
    "new_sheet": false,
    "run_control": {
     "read_only": false
    }
   },
   "outputs": [],
   "source": [
    "\n",
    "dataset = pd.DataFrame(result)\n"
   ]
  },
  {
   "cell_type": "code",
   "execution_count": 28,
   "metadata": {
    "button": false,
    "jupyter": {
     "outputs_hidden": false
    },
    "new_sheet": false,
    "run_control": {
     "read_only": false
    }
   },
   "outputs": [
    {
     "data": {
      "text/html": [
       "<div>\n",
       "<style scoped>\n",
       "    .dataframe tbody tr th:only-of-type {\n",
       "        vertical-align: middle;\n",
       "    }\n",
       "\n",
       "    .dataframe tbody tr th {\n",
       "        vertical-align: top;\n",
       "    }\n",
       "\n",
       "    .dataframe thead th {\n",
       "        text-align: right;\n",
       "    }\n",
       "</style>\n",
       "<table border=\"1\" class=\"dataframe\">\n",
       "  <thead>\n",
       "    <tr style=\"text-align: right;\">\n",
       "      <th></th>\n",
       "      <th>0</th>\n",
       "      <th>1</th>\n",
       "      <th>2</th>\n",
       "      <th>3</th>\n",
       "      <th>4</th>\n",
       "      <th>5</th>\n",
       "    </tr>\n",
       "  </thead>\n",
       "  <tbody>\n",
       "    <tr>\n",
       "      <th>0</th>\n",
       "      <td>ID</td>\n",
       "      <td>b'int'</td>\n",
       "      <td>NO</td>\n",
       "      <td>[80, 82, 73]</td>\n",
       "      <td>None</td>\n",
       "      <td>auto_increment</td>\n",
       "    </tr>\n",
       "    <tr>\n",
       "      <th>1</th>\n",
       "      <td>date</td>\n",
       "      <td>b'int'</td>\n",
       "      <td>YES</td>\n",
       "      <td>[]</td>\n",
       "      <td>None</td>\n",
       "      <td></td>\n",
       "    </tr>\n",
       "    <tr>\n",
       "      <th>2</th>\n",
       "      <td>team</td>\n",
       "      <td>b'varchar(3)'</td>\n",
       "      <td>YES</td>\n",
       "      <td>[]</td>\n",
       "      <td>None</td>\n",
       "      <td></td>\n",
       "    </tr>\n",
       "    <tr>\n",
       "      <th>3</th>\n",
       "      <td>conf</td>\n",
       "      <td>b'varchar(1)'</td>\n",
       "      <td>YES</td>\n",
       "      <td>[]</td>\n",
       "      <td>None</td>\n",
       "      <td></td>\n",
       "    </tr>\n",
       "    <tr>\n",
       "      <th>4</th>\n",
       "      <td>name</td>\n",
       "      <td>b'text'</td>\n",
       "      <td>YES</td>\n",
       "      <td>[]</td>\n",
       "      <td>None</td>\n",
       "      <td></td>\n",
       "    </tr>\n",
       "    <tr>\n",
       "      <th>5</th>\n",
       "      <td>min</td>\n",
       "      <td>b'int'</td>\n",
       "      <td>YES</td>\n",
       "      <td>[]</td>\n",
       "      <td>None</td>\n",
       "      <td></td>\n",
       "    </tr>\n",
       "    <tr>\n",
       "      <th>6</th>\n",
       "      <td>pts</td>\n",
       "      <td>b'int'</td>\n",
       "      <td>YES</td>\n",
       "      <td>[]</td>\n",
       "      <td>None</td>\n",
       "      <td></td>\n",
       "    </tr>\n",
       "    <tr>\n",
       "      <th>7</th>\n",
       "      <td>plmin</td>\n",
       "      <td>b'int'</td>\n",
       "      <td>YES</td>\n",
       "      <td>[]</td>\n",
       "      <td>None</td>\n",
       "      <td></td>\n",
       "    </tr>\n",
       "  </tbody>\n",
       "</table>\n",
       "</div>"
      ],
      "text/plain": [
       "       0              1    2             3     4               5\n",
       "0     ID         b'int'   NO  [80, 82, 73]  None  auto_increment\n",
       "1   date         b'int'  YES            []  None                \n",
       "2   team  b'varchar(3)'  YES            []  None                \n",
       "3   conf  b'varchar(1)'  YES            []  None                \n",
       "4   name        b'text'  YES            []  None                \n",
       "5    min         b'int'  YES            []  None                \n",
       "6    pts         b'int'  YES            []  None                \n",
       "7  plmin         b'int'  YES            []  None                "
      ]
     },
     "execution_count": 28,
     "metadata": {},
     "output_type": "execute_result"
    }
   ],
   "source": [
    "dataset"
   ]
  },
  {
   "cell_type": "code",
   "execution_count": null,
   "metadata": {
    "button": false,
    "new_sheet": false,
    "run_control": {
     "read_only": false
    }
   },
   "outputs": [],
   "source": []
  },
  {
   "cell_type": "code",
   "execution_count": null,
   "metadata": {},
   "outputs": [],
   "source": []
  }
 ],
 "metadata": {
  "kernelspec": {
   "display_name": "Python 3",
   "language": "python",
   "name": "python3"
  },
  "language_info": {
   "codemirror_mode": {
    "name": "ipython",
    "version": 3
   },
   "file_extension": ".py",
   "mimetype": "text/x-python",
   "name": "python",
   "nbconvert_exporter": "python",
   "pygments_lexer": "ipython3",
   "version": "3.9.5"
  }
 },
 "nbformat": 4,
 "nbformat_minor": 4
}
